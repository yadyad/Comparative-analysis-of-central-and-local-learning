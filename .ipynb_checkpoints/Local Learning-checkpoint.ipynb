{
 "cells": [
  {
   "cell_type": "code",
   "id": "initial_id",
   "metadata": {
    "collapsed": true,
    "ExecuteTime": {
     "end_time": "2024-06-18T11:01:48.411794Z",
     "start_time": "2024-06-18T11:01:48.405064Z"
    }
   },
   "source": [
    "import tensorflow as tf\n",
    "\n",
    "from tensorflow.keras.layers import Input, Conv2D, Dense, Flatten, Dropout, GlobalMaxPooling2D, BatchNormalization, MaxPooling2D, GlobalAveragePooling2D\n",
    "from tensorflow.keras.models import Model\n",
    "from sklearn.model_selection import train_test_split\n",
    "from tensorflow.keras.preprocessing import image\n",
    "import numpy as np\n",
    "import data_preprocessing\n"
   ],
   "execution_count": 8,
   "outputs": []
  },
  {
   "metadata": {},
   "cell_type": "markdown",
   "source": "",
   "id": "822f2461e1821039"
  },
  {
   "metadata": {
    "ExecuteTime": {
     "end_time": "2024-06-18T10:53:00.037006Z",
     "start_time": "2024-06-18T10:52:51.420028Z"
    }
   },
   "cell_type": "code",
   "source": "from data_preprocessing import DataPreprocessing",
   "id": "5ce5cef328821f34",
   "execution_count": 1,
   "outputs": []
  },
  {
   "metadata": {
    "ExecuteTime": {
     "end_time": "2024-06-18T10:59:52.588580Z",
     "start_time": "2024-06-18T10:59:43.653751Z"
    }
   },
   "cell_type": "code",
   "source": [
    "from local_learning import LocalLearning\n",
    "from tensorflow.keras.applications.resnet50 import preprocess_input, decode_predictions\n",
    "L = LocalLearning()\n",
    "L.resnet()"
   ],
   "id": "1c49a8de82236da5",
   "execution_count": 5,
   "outputs": []
  },
  {
   "metadata": {},
   "cell_type": "code",
   "execution_count": null,
   "source": [
    "\n",
    "gpus = tf.config.experimental\n",
    "print(\"gpus\")"
   ],
   "id": "7e71671f1bea0b0c",
   "outputs": []
  },
  {
   "metadata": {},
   "cell_type": "code",
   "execution_count": null,
   "source": "",
   "id": "f33a4cc004c8a55e",
   "outputs": []
  },
  {
   "metadata": {},
   "cell_type": "code",
   "execution_count": null,
   "source": "",
   "id": "eba6c3db1654fa99",
   "outputs": []
  }
 ],
 "metadata": {
  "kernelspec": {
   "display_name": "Python 3",
   "language": "python",
   "name": "python3"
  },
  "language_info": {
   "codemirror_mode": {
    "name": "ipython",
    "version": 2
   },
   "file_extension": ".py",
   "mimetype": "text/x-python",
   "name": "python",
   "nbconvert_exporter": "python",
   "pygments_lexer": "ipython2",
   "version": "2.7.6"
  }
 },
 "nbformat": 4,
 "nbformat_minor": 5
}
